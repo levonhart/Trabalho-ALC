#Processo de Gram Schimdt

import numpy as np
from scipy import linalg

def qr_gramschmidt(A):
    m, n = A.shape
    R = np.zeros((n, n))
    Q = np.empty((m, n))
    R[0, 0] = linalg.norm(A[:, 0])
    Q[:, 0] = A[:, 0] / R[0, 0]
    for k in range(1, n):
        R[:k-1, k] = np.dot(Q[:m, :k-1].T, A[:m, k])
        z = A[:m, k] - np.dot(Q[:m, :k-1], R[:k-1, k])
        R[k, k] = linalg.norm(z)
        Q[:m, k] = z / R[k, k]
    return Q, R

if __name__ == '__main__':
    
    m = 5
    n = 5
    A = np.random.randint(20000,size=(m, n))-10000
    Q, R = qr_gramschmidt(A)
    print('Matriz A\n')
    print(A) #matriz A
    print('\nMatriz Q (*)\n')
    print(Q.round(4)) #matriz Q
    print('\nMatriz R (*)\n')
    print(R.round(4)) #matriz R
    print('\n Matrix QR-A (erro) (*)')
    print((np.dot(Q,R)-A).round(4))
    print('*resultados arredondados com 4 casas decimais para facilitar a leitura')






#Matriz de Rotação de Givens

import numpy as np
from scipy import linalg
from numpy import sin, cos, pi

def montagem_rotGivens(A,i,j):
    n = A.shape[1]
    Pij = np.identity(n)
    if(np.absolute(A[i,j])<0.1e-4):
        theta = np.pi/4
    else:
        theta = np.arctan(A[i,j]/A[j,j])

    Pij[i,i] = np.cos(theta)
    Pij[j,j] = np.cos(theta)
    Pij[i,j] = -np.sin(theta)
    Pij[j,i] = np.sin(theta)
    
    return Pij

def decompor_rotGivens(A):
    n = A.shape[1]
    
    Q = np.identity(n)
    
    for j in range(0,n-1):
        for i in range(j+1,n):
            Pt = montagem_rotGivens(A,i,j)
            
            A = np.dot(Pt,A)
            Q = np.dot(Pt,Q)
            
    return (Q.T , A)

def qr_rotGivens(A, H=None):
    n = A.shape[1]
    R = np.copy(A)
    P = np.identity(n)
    Q = np.empty(n)
    
    if(H != None):
        Pt = H
    i=0
    erro = np.inf
    
    while(erro>0.1e-8 and i < 100):
        Q ,R = decompor_rotGivens(R)            
        A = np.dot(R,Q)
        P = np.dot(P,Q)
        for j in range(0,n-1):
            erro = np.dot(R[j+1:n,j],R[j+1:n,j])
        erro = np.sqrt(erro)
        i += i
    return Q , R


if __name__ == '__main__':
    
    
    n = 5
    A = np.random.randint(20000,size=(m, n))-10000
    R = np.copy(A)
    print('Matriz A\n',A,'\n')     
    Q ,R = qr_rotGivens(A)
    print('\nMatriz Q (*)\n')
    print(Q.round(4)) #matriz Q
    print('\nMatriz R (*)\n')
    print(R.round(4)) #matriz R
    print('\n Matrix QR-A (erro) (*)')
    print((np.dot(Q,R)-A).round(4))
    print('*resultados arredondados com 4 casas decimais para facilitar a leitura')
